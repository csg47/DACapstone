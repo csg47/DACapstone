{
 "cells": [
  {
   "cell_type": "markdown",
   "metadata": {},
   "source": [
    "<p style=\"text-align:center\">\n",
    "    <a href=\"https://skills.network/?utm_medium=Exinfluencer&utm_source=Exinfluencer&utm_content=000026UJ&utm_term=10006555&utm_id=NA-SkillsNetwork-Channel-SkillsNetworkCoursesIBMDA0321ENSkillsNetwork928-2022-01-01\" target=\"_blank\">\n",
    "    <img src=\"https://cf-courses-data.s3.us.cloud-object-storage.appdomain.cloud/assets/logos/SN_web_lightmode.png\" width=\"200\" alt=\"Skills Network Logo\"  />\n",
    "    </a>\n",
    "</p>\n"
   ]
  },
  {
   "cell_type": "markdown",
   "metadata": {},
   "source": [
    "# **Data Wrangling Lab**\n"
   ]
  },
  {
   "cell_type": "markdown",
   "metadata": {},
   "source": [
    "Estimated time needed: **45 to 60** minutes\n"
   ]
  },
  {
   "cell_type": "markdown",
   "metadata": {},
   "source": [
    "In this assignment you will be performing data wrangling.\n"
   ]
  },
  {
   "cell_type": "markdown",
   "metadata": {},
   "source": [
    "## Objectives\n"
   ]
  },
  {
   "cell_type": "markdown",
   "metadata": {},
   "source": [
    "In this lab you will perform the following:\n"
   ]
  },
  {
   "cell_type": "markdown",
   "metadata": {},
   "source": [
    "-   Identify duplicate values in the dataset.\n",
    "\n",
    "-   Remove duplicate values from the dataset.\n",
    "\n",
    "-   Identify missing values in the dataset.\n",
    "\n",
    "-   Impute the missing values in the dataset.\n",
    "\n",
    "-   Normalize data in the dataset.\n"
   ]
  },
  {
   "cell_type": "markdown",
   "metadata": {},
   "source": [
    "<hr>\n"
   ]
  },
  {
   "cell_type": "markdown",
   "metadata": {},
   "source": [
    "## Hands on Lab\n"
   ]
  },
  {
   "cell_type": "markdown",
   "metadata": {},
   "source": [
    "Import pandas module.\n"
   ]
  },
  {
   "cell_type": "code",
   "execution_count": 1,
   "metadata": {
    "tags": []
   },
   "outputs": [],
   "source": [
    "import pandas as pd"
   ]
  },
  {
   "cell_type": "markdown",
   "metadata": {},
   "source": [
    "Load the dataset into a dataframe.\n"
   ]
  },
  {
   "cell_type": "code",
   "execution_count": 2,
   "metadata": {
    "tags": []
   },
   "outputs": [],
   "source": [
    "df = pd.read_csv(\"https://cf-courses-data.s3.us.cloud-object-storage.appdomain.cloud/IBM-DA0321EN-SkillsNetwork/LargeData/m1_survey_data.csv\")"
   ]
  },
  {
   "cell_type": "markdown",
   "metadata": {},
   "source": [
    "## Finding duplicates\n"
   ]
  },
  {
   "cell_type": "markdown",
   "metadata": {},
   "source": [
    "In this section you will identify duplicate values in the dataset.\n"
   ]
  },
  {
   "cell_type": "markdown",
   "metadata": {},
   "source": [
    " Find how many duplicate rows exist in the dataframe.\n"
   ]
  },
  {
   "cell_type": "code",
   "execution_count": 3,
   "metadata": {
    "tags": []
   },
   "outputs": [
    {
     "name": "stdout",
     "output_type": "stream",
     "text": [
      "Shape:  (11552, 85)\n",
      "Unique rows:  11398\n"
     ]
    }
   ],
   "source": [
    "# your code goes here\n",
    "print(\"Shape: \", df.shape)\n",
    "print(\"Unique rows: \", len(df.drop_duplicates()))"
   ]
  },
  {
   "cell_type": "markdown",
   "metadata": {},
   "source": [
    "## Removing duplicates\n"
   ]
  },
  {
   "cell_type": "markdown",
   "metadata": {},
   "source": [
    "Remove the duplicate rows from the dataframe.\n"
   ]
  },
  {
   "cell_type": "code",
   "execution_count": 4,
   "metadata": {
    "tags": []
   },
   "outputs": [],
   "source": [
    "# your code goes here\n",
    "df=df.drop_duplicates()"
   ]
  },
  {
   "cell_type": "markdown",
   "metadata": {},
   "source": [
    "Verify if duplicates were actually dropped.\n"
   ]
  },
  {
   "cell_type": "code",
   "execution_count": 5,
   "metadata": {
    "tags": []
   },
   "outputs": [
    {
     "name": "stdout",
     "output_type": "stream",
     "text": [
      "11398\n"
     ]
    }
   ],
   "source": [
    "# your code goes here\n",
    "print(len(df))"
   ]
  },
  {
   "cell_type": "markdown",
   "metadata": {},
   "source": [
    "## Finding Missing values\n"
   ]
  },
  {
   "cell_type": "markdown",
   "metadata": {},
   "source": [
    "Find the missing values for all columns.\n"
   ]
  },
  {
   "cell_type": "code",
   "execution_count": 6,
   "metadata": {
    "tags": []
   },
   "outputs": [],
   "source": [
    "# your code goes here\n",
    "missing_values = df.isnull()"
   ]
  },
  {
   "cell_type": "code",
   "execution_count": 7,
   "metadata": {
    "tags": []
   },
   "outputs": [
    {
     "name": "stdout",
     "output_type": "stream",
     "text": [
      "       Respondent  MainBranch  Hobbyist  OpenSourcer  OpenSource  Employment  \\\n",
      "0           False       False     False        False       False       False   \n",
      "1           False       False     False        False       False       False   \n",
      "2           False       False     False        False       False       False   \n",
      "3           False       False     False        False       False       False   \n",
      "4           False       False     False        False       False       False   \n",
      "...           ...         ...       ...          ...         ...         ...   \n",
      "11547       False       False     False        False       False       False   \n",
      "11548       False       False     False        False       False       False   \n",
      "11549       False       False     False        False       False       False   \n",
      "11550       False       False     False        False       False       False   \n",
      "11551       False       False     False        False       False       False   \n",
      "\n",
      "       Country  Student  EdLevel  UndergradMajor  ...  WelcomeChange  \\\n",
      "0        False    False    False           False  ...          False   \n",
      "1        False    False    False           False  ...          False   \n",
      "2        False    False    False           False  ...          False   \n",
      "3        False    False    False            True  ...          False   \n",
      "4        False    False    False           False  ...          False   \n",
      "...        ...      ...      ...             ...  ...            ...   \n",
      "11547    False    False    False           False  ...          False   \n",
      "11548    False    False    False           False  ...          False   \n",
      "11549    False    False    False           False  ...          False   \n",
      "11550    False    False    False            True  ...          False   \n",
      "11551    False    False    False           False  ...          False   \n",
      "\n",
      "       SONewContent    Age  Gender  Trans  Sexuality  Ethnicity  Dependents  \\\n",
      "0             False  False   False  False      False      False       False   \n",
      "1              True  False   False  False      False      False       False   \n",
      "2             False  False   False  False      False      False       False   \n",
      "3             False  False   False  False      False      False       False   \n",
      "4             False  False   False  False      False      False       False   \n",
      "...             ...    ...     ...    ...        ...        ...         ...   \n",
      "11547         False  False   False  False      False      False       False   \n",
      "11548         False  False   False  False      False      False       False   \n",
      "11549         False  False   False  False      False      False       False   \n",
      "11550          True  False   False  False      False      False       False   \n",
      "11551         False  False   False  False      False      False       False   \n",
      "\n",
      "       SurveyLength  SurveyEase  \n",
      "0             False       False  \n",
      "1             False       False  \n",
      "2             False       False  \n",
      "3             False       False  \n",
      "4             False       False  \n",
      "...             ...         ...  \n",
      "11547         False       False  \n",
      "11548         False       False  \n",
      "11549         False       False  \n",
      "11550         False       False  \n",
      "11551         False       False  \n",
      "\n",
      "[11398 rows x 85 columns]\n"
     ]
    }
   ],
   "source": [
    "print(missing_values)"
   ]
  },
  {
   "cell_type": "markdown",
   "metadata": {},
   "source": [
    "Find out how many rows are missing in the column 'WorkLoc'\n"
   ]
  },
  {
   "cell_type": "code",
   "execution_count": 8,
   "metadata": {
    "tags": []
   },
   "outputs": [
    {
     "name": "stdout",
     "output_type": "stream",
     "text": [
      "Number of missing values in the column WorkLoc is:  32\n"
     ]
    }
   ],
   "source": [
    "# your code goes here\n",
    "missing_WorkLoc = df['WorkLoc'].isnull().sum()\n",
    "print(\"Number of missing values in the column WorkLoc is: \", missing_WorkLoc)"
   ]
  },
  {
   "cell_type": "markdown",
   "metadata": {},
   "source": [
    "## Imputing missing values\n"
   ]
  },
  {
   "cell_type": "markdown",
   "metadata": {},
   "source": [
    "Find the  value counts for the column WorkLoc.\n"
   ]
  },
  {
   "cell_type": "code",
   "execution_count": 9,
   "metadata": {
    "tags": []
   },
   "outputs": [
    {
     "name": "stdout",
     "output_type": "stream",
     "text": [
      "Office                                            6806\n",
      "Home                                              3589\n",
      "Other place, such as a coworking space or cafe     971\n",
      "Name: WorkLoc, dtype: int64\n"
     ]
    }
   ],
   "source": [
    "# your code goes here\n",
    "value_counts=df['WorkLoc'].value_counts()\n",
    "print(value_counts)"
   ]
  },
  {
   "cell_type": "markdown",
   "metadata": {},
   "source": [
    "Identify the value that is most frequent (majority) in the WorkLoc column.\n"
   ]
  },
  {
   "cell_type": "code",
   "execution_count": 10,
   "metadata": {
    "tags": []
   },
   "outputs": [],
   "source": [
    "#make a note of the majority value here, for future reference\n",
    "# Office"
   ]
  },
  {
   "cell_type": "markdown",
   "metadata": {},
   "source": [
    "Impute (replace) all the empty rows in the column WorkLoc with the value that you have identified as majority.\n"
   ]
  },
  {
   "cell_type": "code",
   "execution_count": 11,
   "metadata": {
    "tags": []
   },
   "outputs": [
    {
     "name": "stdout",
     "output_type": "stream",
     "text": [
      "11398\n"
     ]
    }
   ],
   "source": [
    "# your code goes here\n",
    "\n",
    "df['WorkLoc'].fillna('Office', inplace=True)\n",
    "print(len(df))"
   ]
  },
  {
   "cell_type": "markdown",
   "metadata": {},
   "source": [
    "After imputation there should ideally not be any empty rows in the WorkLoc column.\n"
   ]
  },
  {
   "cell_type": "markdown",
   "metadata": {},
   "source": [
    "Verify if imputing was successful.\n"
   ]
  },
  {
   "cell_type": "code",
   "execution_count": 12,
   "metadata": {
    "tags": []
   },
   "outputs": [
    {
     "name": "stdout",
     "output_type": "stream",
     "text": [
      "Number of missing values in the column WorkLoc is:  0\n",
      "Office                                            6838\n",
      "Home                                              3589\n",
      "Other place, such as a coworking space or cafe     971\n",
      "Name: WorkLoc, dtype: int64\n"
     ]
    }
   ],
   "source": [
    "# your code goes here\n",
    "missing_WorkLoc = df['WorkLoc'].isnull().sum()\n",
    "print(\"Number of missing values in the column WorkLoc is: \", missing_WorkLoc)\n",
    "\n",
    "# your code goes here\n",
    "value_counts=df['WorkLoc'].value_counts()\n",
    "print(value_counts)"
   ]
  },
  {
   "cell_type": "markdown",
   "metadata": {},
   "source": [
    "## Normalizing data\n"
   ]
  },
  {
   "cell_type": "markdown",
   "metadata": {},
   "source": [
    "There are two columns in the dataset that talk about compensation.\n",
    "\n",
    "One is \"CompFreq\". This column shows how often a developer is paid (Yearly, Monthly, Weekly).\n",
    "\n",
    "The other is \"CompTotal\". This column talks about how much the developer is paid per Year, Month, or Week depending upon his/her \"CompFreq\". \n",
    "\n",
    "This makes it difficult to compare the total compensation of the developers.\n",
    "\n",
    "In this section you will create a new column called 'NormalizedAnnualCompensation' which contains the 'Annual Compensation' irrespective of the 'CompFreq'.\n",
    "\n",
    "Once this column is ready, it makes comparison of salaries easy.\n"
   ]
  },
  {
   "cell_type": "markdown",
   "metadata": {},
   "source": [
    "List out the various categories in the column 'CompFreq'\n"
   ]
  },
  {
   "cell_type": "code",
   "execution_count": 13,
   "metadata": {
    "tags": []
   },
   "outputs": [
    {
     "name": "stdout",
     "output_type": "stream",
     "text": [
      "['Yearly' 'Monthly' 'Weekly' nan]\n",
      "11398\n"
     ]
    }
   ],
   "source": [
    "# your code goes here\n",
    "print(df['CompFreq'].unique())\n",
    "print(len(df))"
   ]
  },
  {
   "cell_type": "markdown",
   "metadata": {},
   "source": [
    "Create a new column named 'NormalizedAnnualCompensation'. Use the hint given below if needed.\n"
   ]
  },
  {
   "cell_type": "markdown",
   "metadata": {},
   "source": [
    "Double click to see the **Hint**.\n",
    "\n",
    "<!--\n",
    "\n",
    "Use the below logic to arrive at the values for the column NormalizedAnnualCompensation.\n",
    "\n",
    "If the CompFreq is Yearly then use the exising value in CompTotal\n",
    "If the CompFreq is Monthly then multiply the value in CompTotal with 12 (months in an year)\n",
    "If the CompFreq is Weekly then multiply the value in CompTotal with 52 (weeks in an year)\n",
    "\n",
    "-->\n"
   ]
  },
  {
   "cell_type": "code",
   "execution_count": 14,
   "metadata": {
    "tags": []
   },
   "outputs": [],
   "source": [
    "import numpy as np\n",
    "\n",
    "df['NormalizedAnnualCompensation'] = np.nan\n",
    "\n",
    "#each iteration provides both the index and the row data as a Pandas Series\n",
    "for index, row in df.iterrows():\n",
    "    if row['CompFreq'] == 'Yearly':\n",
    "        df.loc[index, 'NormalizedAnnualCompensation'] = row['CompTotal']\n",
    "    elif row['CompFreq'] == 'Monthly':\n",
    "        df.loc[index, 'NormalizedAnnualCompensation'] = row['CompTotal'] * 12\n",
    "    elif row['CompFreq'] == 'Weekly':\n",
    "        df.loc[index, 'NormalizedAnnualCompensation'] = row['CompTotal'] * 52\n",
    "    else:\n",
    "        #Later impute values based on median or mean...MORE INVESTIGATION NEEDED\n",
    "        df.loc[index, 'NormalizedAnnualCompensation'] = np.nan\n",
    "        \n",
    "#df.head()"
   ]
  },
  {
   "cell_type": "code",
   "execution_count": 15,
   "metadata": {
    "tags": []
   },
   "outputs": [
    {
     "name": "stdout",
     "output_type": "stream",
     "text": [
      "       CompTotal CompFreq  NormalizedAnnualCompensation\n",
      "1000   1300000.0  Monthly                    15600000.0\n",
      "1001      7500.0  Monthly                       90000.0\n",
      "1002   1300000.0   Yearly                     1300000.0\n",
      "1003         NaN  Monthly                           NaN\n",
      "1004     46000.0   Yearly                       46000.0\n",
      "1005      2220.0  Monthly                       26640.0\n",
      "1006     39900.0   Yearly                       39900.0\n",
      "1007    119000.0  Monthly                     1428000.0\n",
      "1008    105000.0   Yearly                      105000.0\n",
      "1009      2700.0  Monthly                       32400.0\n",
      "1010     80000.0   Yearly                       80000.0\n",
      "1011     65000.0   Weekly                     3380000.0\n",
      "1012      2900.0  Monthly                       34800.0\n",
      "1013      5000.0  Monthly                       60000.0\n",
      "1014     40000.0   Yearly                       40000.0\n",
      "1015     85000.0   Yearly                       85000.0\n",
      "1016    120000.0   Yearly                      120000.0\n",
      "1017    342000.0   Yearly                      342000.0\n",
      "1018      6248.0  Monthly                       74976.0\n",
      "1019    270000.0   Yearly                      270000.0\n",
      "1020    150000.0   Yearly                      150000.0\n",
      "1021      4200.0  Monthly                       50400.0\n",
      "1022     45000.0   Yearly                       45000.0\n",
      "1023      2000.0  Monthly                       24000.0\n",
      "1024    126000.0   Yearly                      126000.0\n",
      "1025     30000.0  Monthly                      360000.0\n",
      "1026      3650.0  Monthly                       43800.0\n",
      "1027     96000.0   Yearly                       96000.0\n",
      "1028     75500.0   Yearly                       75500.0\n",
      "1029      1200.0  Monthly                       14400.0\n",
      "1030    120000.0   Yearly                      120000.0\n",
      "1031    140000.0   Yearly                      140000.0\n",
      "1032     18000.0  Monthly                      216000.0\n",
      "1033     90000.0   Yearly                       90000.0\n",
      "1034    120000.0   Yearly                      120000.0\n",
      "1035         NaN  Monthly                           NaN\n",
      "1036    115000.0   Yearly                      115000.0\n",
      "1037    200000.0   Weekly                    10400000.0\n",
      "1038     54000.0   Yearly                       54000.0\n",
      "1039    120000.0   Yearly                      120000.0\n",
      "1040       800.0  Monthly                        9600.0\n",
      "1041    150000.0   Yearly                      150000.0\n",
      "1042     32000.0   Yearly                       32000.0\n",
      "1043      2800.0  Monthly                       33600.0\n",
      "1044     25000.0   Yearly                       25000.0\n",
      "1045      2500.0  Monthly                       30000.0\n",
      "1046  15000000.0   Yearly                    15000000.0\n",
      "1047     70000.0   Yearly                       70000.0\n",
      "1048      1100.0  Monthly                       13200.0\n",
      "1049    160000.0   Yearly                      160000.0\n",
      "1050     72600.0   Yearly                       72600.0\n"
     ]
    }
   ],
   "source": [
    "# Print the first 5 rows and selected columns\n",
    "selected_columns = ['CompTotal', 'CompFreq', 'NormalizedAnnualCompensation']\n",
    "print(df.loc[1000:1050, selected_columns])"
   ]
  },
  {
   "cell_type": "markdown",
   "metadata": {},
   "source": [
    "Note: The frequency data ('Freq Comp') looks wrong.  Guessing people filled in\n",
    "the annual salary and then how often they got paid that annual salary.\n",
    "FURTHER INVESTIGATION NEEDED"
   ]
  },
  {
   "cell_type": "markdown",
   "metadata": {},
   "source": [
    "## Authors\n"
   ]
  },
  {
   "cell_type": "markdown",
   "metadata": {},
   "source": [
    "Ramesh Sannareddy\n"
   ]
  },
  {
   "cell_type": "markdown",
   "metadata": {},
   "source": [
    "### Other Contributors\n"
   ]
  },
  {
   "cell_type": "markdown",
   "metadata": {},
   "source": [
    "Rav Ahuja\n"
   ]
  },
  {
   "cell_type": "markdown",
   "metadata": {},
   "source": [
    "## Change Log\n"
   ]
  },
  {
   "cell_type": "markdown",
   "metadata": {},
   "source": [
    "| Date (YYYY-MM-DD) | Version | Changed By        | Change Description                 |\n",
    "| ----------------- | ------- | ----------------- | ---------------------------------- |\n",
    "| 2020-10-17        | 0.1     | Ramesh Sannareddy | Created initial version of the lab |\n"
   ]
  },
  {
   "cell_type": "markdown",
   "metadata": {},
   "source": [
    " Copyright © 2020 IBM Corporation. This notebook and its source code are released under the terms of the [MIT License](https://cognitiveclass.ai/mit-license?utm_medium=Exinfluencer&utm_source=Exinfluencer&utm_content=000026UJ&utm_term=10006555&utm_id=NA-SkillsNetwork-Channel-SkillsNetworkCoursesIBMDA0321ENSkillsNetwork928-2022-01-01&cm_mmc=Email_Newsletter-_-Developer_Ed%2BTech-_-WW_WW-_-SkillsNetwork-Courses-IBM-DA0321EN-SkillsNetwork-21426264&cm_mmca1=000026UJ&cm_mmca2=10006555&cm_mmca3=M12345678&cvosrc=email.Newsletter.M12345678&cvo_campaign=000026UJ).\n"
   ]
  }
 ],
 "metadata": {
  "kernelspec": {
   "display_name": "Python",
   "language": "python",
   "name": "conda-env-python-py"
  },
  "language_info": {
   "codemirror_mode": {
    "name": "ipython",
    "version": 3
   },
   "file_extension": ".py",
   "mimetype": "text/x-python",
   "name": "python",
   "nbconvert_exporter": "python",
   "pygments_lexer": "ipython3",
   "version": "3.7.12"
  }
 },
 "nbformat": 4,
 "nbformat_minor": 4
}
